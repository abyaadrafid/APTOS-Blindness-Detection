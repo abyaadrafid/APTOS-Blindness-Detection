{
  "nbformat": 4,
  "nbformat_minor": 0,
  "metadata": {
    "colab": {
      "name": "autoencoder_self_supervision.ipynb",
      "provenance": [],
      "collapsed_sections": [],
      "authorship_tag": "ABX9TyO/DOJgyLkXSEoz3ibYCOtK",
      "include_colab_link": true
    },
    "kernelspec": {
      "name": "python3",
      "display_name": "Python 3"
    },
    "language_info": {
      "name": "python"
    },
    "widgets": {
      "application/vnd.jupyter.widget-state+json": {
        "e878cbe1c64f4207823c7942e0908b56": {
          "model_module": "@jupyter-widgets/controls",
          "model_name": "HBoxModel",
          "model_module_version": "1.5.0",
          "state": {
            "_view_name": "HBoxView",
            "_dom_classes": [],
            "_model_name": "HBoxModel",
            "_view_module": "@jupyter-widgets/controls",
            "_model_module_version": "1.5.0",
            "_view_count": null,
            "_view_module_version": "1.5.0",
            "box_style": "",
            "layout": "IPY_MODEL_1a0410508778432b8b7fc3ae79829f81",
            "_model_module": "@jupyter-widgets/controls",
            "children": [
              "IPY_MODEL_cb88880e54144345be6c90da2dc87af4",
              "IPY_MODEL_4ad8934a83e74a26975e307be24c643a",
              "IPY_MODEL_39ab332ed12d4e3fa4b92b4d57a8c06c"
            ]
          }
        },
        "1a0410508778432b8b7fc3ae79829f81": {
          "model_module": "@jupyter-widgets/base",
          "model_name": "LayoutModel",
          "model_module_version": "1.2.0",
          "state": {
            "_view_name": "LayoutView",
            "grid_template_rows": null,
            "right": null,
            "justify_content": null,
            "_view_module": "@jupyter-widgets/base",
            "overflow": null,
            "_model_module_version": "1.2.0",
            "_view_count": null,
            "flex_flow": null,
            "width": null,
            "min_width": null,
            "border": null,
            "align_items": null,
            "bottom": null,
            "_model_module": "@jupyter-widgets/base",
            "top": null,
            "grid_column": null,
            "overflow_y": null,
            "overflow_x": null,
            "grid_auto_flow": null,
            "grid_area": null,
            "grid_template_columns": null,
            "flex": null,
            "_model_name": "LayoutModel",
            "justify_items": null,
            "grid_row": null,
            "max_height": null,
            "align_content": null,
            "visibility": null,
            "align_self": null,
            "height": null,
            "min_height": null,
            "padding": null,
            "grid_auto_rows": null,
            "grid_gap": null,
            "max_width": null,
            "order": null,
            "_view_module_version": "1.2.0",
            "grid_template_areas": null,
            "object_position": null,
            "object_fit": null,
            "grid_auto_columns": null,
            "margin": null,
            "display": null,
            "left": null
          }
        },
        "cb88880e54144345be6c90da2dc87af4": {
          "model_module": "@jupyter-widgets/controls",
          "model_name": "HTMLModel",
          "model_module_version": "1.5.0",
          "state": {
            "_view_name": "HTMLView",
            "style": "IPY_MODEL_1fda56554f22489893f5f28f59f77e2e",
            "_dom_classes": [],
            "description": "",
            "_model_name": "HTMLModel",
            "placeholder": "​",
            "_view_module": "@jupyter-widgets/controls",
            "_model_module_version": "1.5.0",
            "value": "",
            "_view_count": null,
            "_view_module_version": "1.5.0",
            "description_tooltip": null,
            "_model_module": "@jupyter-widgets/controls",
            "layout": "IPY_MODEL_89dd58b1366d4ba5aac1a020dcae3f5d"
          }
        },
        "4ad8934a83e74a26975e307be24c643a": {
          "model_module": "@jupyter-widgets/controls",
          "model_name": "FloatProgressModel",
          "model_module_version": "1.5.0",
          "state": {
            "_view_name": "ProgressView",
            "style": "IPY_MODEL_ac624d5901494058bd0b3d857c649dcc",
            "_dom_classes": [],
            "description": "",
            "_model_name": "FloatProgressModel",
            "bar_style": "success",
            "max": 1,
            "_view_module": "@jupyter-widgets/controls",
            "_model_module_version": "1.5.0",
            "value": 1,
            "_view_count": null,
            "_view_module_version": "1.5.0",
            "orientation": "horizontal",
            "min": 0,
            "description_tooltip": null,
            "_model_module": "@jupyter-widgets/controls",
            "layout": "IPY_MODEL_882457f04fdf4d3f81b32dc44572fd08"
          }
        },
        "39ab332ed12d4e3fa4b92b4d57a8c06c": {
          "model_module": "@jupyter-widgets/controls",
          "model_name": "HTMLModel",
          "model_module_version": "1.5.0",
          "state": {
            "_view_name": "HTMLView",
            "style": "IPY_MODEL_ddfe8ae6e8444bdb96a152fee418eba0",
            "_dom_classes": [],
            "description": "",
            "_model_name": "HTMLModel",
            "placeholder": "​",
            "_view_module": "@jupyter-widgets/controls",
            "_model_module_version": "1.5.0",
            "value": " 81/? [00:10&lt;00:00,  7.96it/s]",
            "_view_count": null,
            "_view_module_version": "1.5.0",
            "description_tooltip": null,
            "_model_module": "@jupyter-widgets/controls",
            "layout": "IPY_MODEL_c4f346fe619d43f29455aaad16756eba"
          }
        },
        "1fda56554f22489893f5f28f59f77e2e": {
          "model_module": "@jupyter-widgets/controls",
          "model_name": "DescriptionStyleModel",
          "model_module_version": "1.5.0",
          "state": {
            "_view_name": "StyleView",
            "_model_name": "DescriptionStyleModel",
            "description_width": "",
            "_view_module": "@jupyter-widgets/base",
            "_model_module_version": "1.5.0",
            "_view_count": null,
            "_view_module_version": "1.2.0",
            "_model_module": "@jupyter-widgets/controls"
          }
        },
        "89dd58b1366d4ba5aac1a020dcae3f5d": {
          "model_module": "@jupyter-widgets/base",
          "model_name": "LayoutModel",
          "model_module_version": "1.2.0",
          "state": {
            "_view_name": "LayoutView",
            "grid_template_rows": null,
            "right": null,
            "justify_content": null,
            "_view_module": "@jupyter-widgets/base",
            "overflow": null,
            "_model_module_version": "1.2.0",
            "_view_count": null,
            "flex_flow": null,
            "width": null,
            "min_width": null,
            "border": null,
            "align_items": null,
            "bottom": null,
            "_model_module": "@jupyter-widgets/base",
            "top": null,
            "grid_column": null,
            "overflow_y": null,
            "overflow_x": null,
            "grid_auto_flow": null,
            "grid_area": null,
            "grid_template_columns": null,
            "flex": null,
            "_model_name": "LayoutModel",
            "justify_items": null,
            "grid_row": null,
            "max_height": null,
            "align_content": null,
            "visibility": null,
            "align_self": null,
            "height": null,
            "min_height": null,
            "padding": null,
            "grid_auto_rows": null,
            "grid_gap": null,
            "max_width": null,
            "order": null,
            "_view_module_version": "1.2.0",
            "grid_template_areas": null,
            "object_position": null,
            "object_fit": null,
            "grid_auto_columns": null,
            "margin": null,
            "display": null,
            "left": null
          }
        },
        "ac624d5901494058bd0b3d857c649dcc": {
          "model_module": "@jupyter-widgets/controls",
          "model_name": "ProgressStyleModel",
          "model_module_version": "1.5.0",
          "state": {
            "_view_name": "StyleView",
            "_model_name": "ProgressStyleModel",
            "description_width": "",
            "_view_module": "@jupyter-widgets/base",
            "_model_module_version": "1.5.0",
            "_view_count": null,
            "_view_module_version": "1.2.0",
            "bar_color": null,
            "_model_module": "@jupyter-widgets/controls"
          }
        },
        "882457f04fdf4d3f81b32dc44572fd08": {
          "model_module": "@jupyter-widgets/base",
          "model_name": "LayoutModel",
          "model_module_version": "1.2.0",
          "state": {
            "_view_name": "LayoutView",
            "grid_template_rows": null,
            "right": null,
            "justify_content": null,
            "_view_module": "@jupyter-widgets/base",
            "overflow": null,
            "_model_module_version": "1.2.0",
            "_view_count": null,
            "flex_flow": null,
            "width": "20px",
            "min_width": null,
            "border": null,
            "align_items": null,
            "bottom": null,
            "_model_module": "@jupyter-widgets/base",
            "top": null,
            "grid_column": null,
            "overflow_y": null,
            "overflow_x": null,
            "grid_auto_flow": null,
            "grid_area": null,
            "grid_template_columns": null,
            "flex": null,
            "_model_name": "LayoutModel",
            "justify_items": null,
            "grid_row": null,
            "max_height": null,
            "align_content": null,
            "visibility": null,
            "align_self": null,
            "height": null,
            "min_height": null,
            "padding": null,
            "grid_auto_rows": null,
            "grid_gap": null,
            "max_width": null,
            "order": null,
            "_view_module_version": "1.2.0",
            "grid_template_areas": null,
            "object_position": null,
            "object_fit": null,
            "grid_auto_columns": null,
            "margin": null,
            "display": null,
            "left": null
          }
        },
        "ddfe8ae6e8444bdb96a152fee418eba0": {
          "model_module": "@jupyter-widgets/controls",
          "model_name": "DescriptionStyleModel",
          "model_module_version": "1.5.0",
          "state": {
            "_view_name": "StyleView",
            "_model_name": "DescriptionStyleModel",
            "description_width": "",
            "_view_module": "@jupyter-widgets/base",
            "_model_module_version": "1.5.0",
            "_view_count": null,
            "_view_module_version": "1.2.0",
            "_model_module": "@jupyter-widgets/controls"
          }
        },
        "c4f346fe619d43f29455aaad16756eba": {
          "model_module": "@jupyter-widgets/base",
          "model_name": "LayoutModel",
          "model_module_version": "1.2.0",
          "state": {
            "_view_name": "LayoutView",
            "grid_template_rows": null,
            "right": null,
            "justify_content": null,
            "_view_module": "@jupyter-widgets/base",
            "overflow": null,
            "_model_module_version": "1.2.0",
            "_view_count": null,
            "flex_flow": null,
            "width": null,
            "min_width": null,
            "border": null,
            "align_items": null,
            "bottom": null,
            "_model_module": "@jupyter-widgets/base",
            "top": null,
            "grid_column": null,
            "overflow_y": null,
            "overflow_x": null,
            "grid_auto_flow": null,
            "grid_area": null,
            "grid_template_columns": null,
            "flex": null,
            "_model_name": "LayoutModel",
            "justify_items": null,
            "grid_row": null,
            "max_height": null,
            "align_content": null,
            "visibility": null,
            "align_self": null,
            "height": null,
            "min_height": null,
            "padding": null,
            "grid_auto_rows": null,
            "grid_gap": null,
            "max_width": null,
            "order": null,
            "_view_module_version": "1.2.0",
            "grid_template_areas": null,
            "object_position": null,
            "object_fit": null,
            "grid_auto_columns": null,
            "margin": null,
            "display": null,
            "left": null
          }
        }
      }
    }
  },
  "cells": [
    {
      "cell_type": "markdown",
      "metadata": {
        "id": "view-in-github",
        "colab_type": "text"
      },
      "source": [
        "<a href=\"https://colab.research.google.com/github/abyaadrafid/APTOS-Blindness-Detection/blob/master/autoencoder_self_supervision.ipynb\" target=\"_parent\"><img src=\"https://colab.research.google.com/assets/colab-badge.svg\" alt=\"Open In Colab\"/></a>"
      ]
    },
    {
      "cell_type": "code",
      "metadata": {
        "colab": {
          "base_uri": "https://localhost:8080/"
        },
        "id": "AtbKxKlarElL",
        "outputId": "6a9e4389-39ec-4da8-87fb-6c7af48d58c7"
      },
      "source": [
        "!pip install geopandas"
      ],
      "execution_count": 1,
      "outputs": [
        {
          "output_type": "stream",
          "name": "stdout",
          "text": [
            "Collecting geopandas\n",
            "  Downloading geopandas-0.9.0-py2.py3-none-any.whl (994 kB)\n",
            "\u001b[?25l\r\u001b[K     |▎                               | 10 kB 29.9 MB/s eta 0:00:01\r\u001b[K     |▋                               | 20 kB 38.3 MB/s eta 0:00:01\r\u001b[K     |█                               | 30 kB 33.4 MB/s eta 0:00:01\r\u001b[K     |█▎                              | 40 kB 35.7 MB/s eta 0:00:01\r\u001b[K     |█▋                              | 51 kB 23.4 MB/s eta 0:00:01\r\u001b[K     |██                              | 61 kB 14.6 MB/s eta 0:00:01\r\u001b[K     |██▎                             | 71 kB 13.8 MB/s eta 0:00:01\r\u001b[K     |██▋                             | 81 kB 15.3 MB/s eta 0:00:01\r\u001b[K     |███                             | 92 kB 16.9 MB/s eta 0:00:01\r\u001b[K     |███▎                            | 102 kB 17.4 MB/s eta 0:00:01\r\u001b[K     |███▋                            | 112 kB 17.4 MB/s eta 0:00:01\r\u001b[K     |████                            | 122 kB 17.4 MB/s eta 0:00:01\r\u001b[K     |████▎                           | 133 kB 17.4 MB/s eta 0:00:01\r\u001b[K     |████▋                           | 143 kB 17.4 MB/s eta 0:00:01\r\u001b[K     |█████                           | 153 kB 17.4 MB/s eta 0:00:01\r\u001b[K     |█████▎                          | 163 kB 17.4 MB/s eta 0:00:01\r\u001b[K     |█████▋                          | 174 kB 17.4 MB/s eta 0:00:01\r\u001b[K     |██████                          | 184 kB 17.4 MB/s eta 0:00:01\r\u001b[K     |██████▎                         | 194 kB 17.4 MB/s eta 0:00:01\r\u001b[K     |██████▋                         | 204 kB 17.4 MB/s eta 0:00:01\r\u001b[K     |███████                         | 215 kB 17.4 MB/s eta 0:00:01\r\u001b[K     |███████▎                        | 225 kB 17.4 MB/s eta 0:00:01\r\u001b[K     |███████▋                        | 235 kB 17.4 MB/s eta 0:00:01\r\u001b[K     |████████                        | 245 kB 17.4 MB/s eta 0:00:01\r\u001b[K     |████████▎                       | 256 kB 17.4 MB/s eta 0:00:01\r\u001b[K     |████████▋                       | 266 kB 17.4 MB/s eta 0:00:01\r\u001b[K     |█████████                       | 276 kB 17.4 MB/s eta 0:00:01\r\u001b[K     |█████████▎                      | 286 kB 17.4 MB/s eta 0:00:01\r\u001b[K     |█████████▌                      | 296 kB 17.4 MB/s eta 0:00:01\r\u001b[K     |█████████▉                      | 307 kB 17.4 MB/s eta 0:00:01\r\u001b[K     |██████████▏                     | 317 kB 17.4 MB/s eta 0:00:01\r\u001b[K     |██████████▌                     | 327 kB 17.4 MB/s eta 0:00:01\r\u001b[K     |██████████▉                     | 337 kB 17.4 MB/s eta 0:00:01\r\u001b[K     |███████████▏                    | 348 kB 17.4 MB/s eta 0:00:01\r\u001b[K     |███████████▌                    | 358 kB 17.4 MB/s eta 0:00:01\r\u001b[K     |███████████▉                    | 368 kB 17.4 MB/s eta 0:00:01\r\u001b[K     |████████████▏                   | 378 kB 17.4 MB/s eta 0:00:01\r\u001b[K     |████████████▌                   | 389 kB 17.4 MB/s eta 0:00:01\r\u001b[K     |████████████▉                   | 399 kB 17.4 MB/s eta 0:00:01\r\u001b[K     |█████████████▏                  | 409 kB 17.4 MB/s eta 0:00:01\r\u001b[K     |█████████████▌                  | 419 kB 17.4 MB/s eta 0:00:01\r\u001b[K     |█████████████▉                  | 430 kB 17.4 MB/s eta 0:00:01\r\u001b[K     |██████████████▏                 | 440 kB 17.4 MB/s eta 0:00:01\r\u001b[K     |██████████████▌                 | 450 kB 17.4 MB/s eta 0:00:01\r\u001b[K     |██████████████▉                 | 460 kB 17.4 MB/s eta 0:00:01\r\u001b[K     |███████████████▏                | 471 kB 17.4 MB/s eta 0:00:01\r\u001b[K     |███████████████▌                | 481 kB 17.4 MB/s eta 0:00:01\r\u001b[K     |███████████████▉                | 491 kB 17.4 MB/s eta 0:00:01\r\u001b[K     |████████████████▏               | 501 kB 17.4 MB/s eta 0:00:01\r\u001b[K     |████████████████▌               | 512 kB 17.4 MB/s eta 0:00:01\r\u001b[K     |████████████████▉               | 522 kB 17.4 MB/s eta 0:00:01\r\u001b[K     |█████████████████▏              | 532 kB 17.4 MB/s eta 0:00:01\r\u001b[K     |█████████████████▌              | 542 kB 17.4 MB/s eta 0:00:01\r\u001b[K     |█████████████████▉              | 552 kB 17.4 MB/s eta 0:00:01\r\u001b[K     |██████████████████▏             | 563 kB 17.4 MB/s eta 0:00:01\r\u001b[K     |██████████████████▌             | 573 kB 17.4 MB/s eta 0:00:01\r\u001b[K     |██████████████████▊             | 583 kB 17.4 MB/s eta 0:00:01\r\u001b[K     |███████████████████             | 593 kB 17.4 MB/s eta 0:00:01\r\u001b[K     |███████████████████▍            | 604 kB 17.4 MB/s eta 0:00:01\r\u001b[K     |███████████████████▊            | 614 kB 17.4 MB/s eta 0:00:01\r\u001b[K     |████████████████████            | 624 kB 17.4 MB/s eta 0:00:01\r\u001b[K     |████████████████████▍           | 634 kB 17.4 MB/s eta 0:00:01\r\u001b[K     |████████████████████▊           | 645 kB 17.4 MB/s eta 0:00:01\r\u001b[K     |█████████████████████           | 655 kB 17.4 MB/s eta 0:00:01\r\u001b[K     |█████████████████████▍          | 665 kB 17.4 MB/s eta 0:00:01\r\u001b[K     |█████████████████████▊          | 675 kB 17.4 MB/s eta 0:00:01\r\u001b[K     |██████████████████████          | 686 kB 17.4 MB/s eta 0:00:01\r\u001b[K     |██████████████████████▍         | 696 kB 17.4 MB/s eta 0:00:01\r\u001b[K     |██████████████████████▊         | 706 kB 17.4 MB/s eta 0:00:01\r\u001b[K     |███████████████████████         | 716 kB 17.4 MB/s eta 0:00:01\r\u001b[K     |███████████████████████▍        | 727 kB 17.4 MB/s eta 0:00:01\r\u001b[K     |███████████████████████▊        | 737 kB 17.4 MB/s eta 0:00:01\r\u001b[K     |████████████████████████        | 747 kB 17.4 MB/s eta 0:00:01\r\u001b[K     |████████████████████████▍       | 757 kB 17.4 MB/s eta 0:00:01\r\u001b[K     |████████████████████████▊       | 768 kB 17.4 MB/s eta 0:00:01\r\u001b[K     |█████████████████████████       | 778 kB 17.4 MB/s eta 0:00:01\r\u001b[K     |█████████████████████████▍      | 788 kB 17.4 MB/s eta 0:00:01\r\u001b[K     |█████████████████████████▊      | 798 kB 17.4 MB/s eta 0:00:01\r\u001b[K     |██████████████████████████      | 808 kB 17.4 MB/s eta 0:00:01\r\u001b[K     |██████████████████████████▍     | 819 kB 17.4 MB/s eta 0:00:01\r\u001b[K     |██████████████████████████▊     | 829 kB 17.4 MB/s eta 0:00:01\r\u001b[K     |███████████████████████████     | 839 kB 17.4 MB/s eta 0:00:01\r\u001b[K     |███████████████████████████▍    | 849 kB 17.4 MB/s eta 0:00:01\r\u001b[K     |███████████████████████████▊    | 860 kB 17.4 MB/s eta 0:00:01\r\u001b[K     |████████████████████████████    | 870 kB 17.4 MB/s eta 0:00:01\r\u001b[K     |████████████████████████████▎   | 880 kB 17.4 MB/s eta 0:00:01\r\u001b[K     |████████████████████████████▋   | 890 kB 17.4 MB/s eta 0:00:01\r\u001b[K     |█████████████████████████████   | 901 kB 17.4 MB/s eta 0:00:01\r\u001b[K     |█████████████████████████████▎  | 911 kB 17.4 MB/s eta 0:00:01\r\u001b[K     |█████████████████████████████▋  | 921 kB 17.4 MB/s eta 0:00:01\r\u001b[K     |██████████████████████████████  | 931 kB 17.4 MB/s eta 0:00:01\r\u001b[K     |██████████████████████████████▎ | 942 kB 17.4 MB/s eta 0:00:01\r\u001b[K     |██████████████████████████████▋ | 952 kB 17.4 MB/s eta 0:00:01\r\u001b[K     |███████████████████████████████ | 962 kB 17.4 MB/s eta 0:00:01\r\u001b[K     |███████████████████████████████▎| 972 kB 17.4 MB/s eta 0:00:01\r\u001b[K     |███████████████████████████████▋| 983 kB 17.4 MB/s eta 0:00:01\r\u001b[K     |████████████████████████████████| 993 kB 17.4 MB/s eta 0:00:01\r\u001b[K     |████████████████████████████████| 994 kB 17.4 MB/s \n",
            "\u001b[?25hRequirement already satisfied: pandas>=0.24.0 in /usr/local/lib/python3.7/dist-packages (from geopandas) (1.1.5)\n",
            "Collecting fiona>=1.8\n",
            "  Downloading Fiona-1.8.20-cp37-cp37m-manylinux1_x86_64.whl (15.4 MB)\n",
            "\u001b[K     |████████████████████████████████| 15.4 MB 34 kB/s \n",
            "\u001b[?25hRequirement already satisfied: shapely>=1.6 in /usr/local/lib/python3.7/dist-packages (from geopandas) (1.7.1)\n",
            "Collecting pyproj>=2.2.0\n",
            "  Downloading pyproj-3.2.0-cp37-cp37m-manylinux_2_24_x86_64.whl (6.3 MB)\n",
            "\u001b[K     |████████████████████████████████| 6.3 MB 39.0 MB/s \n",
            "\u001b[?25hCollecting click-plugins>=1.0\n",
            "  Downloading click_plugins-1.1.1-py2.py3-none-any.whl (7.5 kB)\n",
            "Collecting cligj>=0.5\n",
            "  Downloading cligj-0.7.2-py3-none-any.whl (7.1 kB)\n",
            "Requirement already satisfied: click>=4.0 in /usr/local/lib/python3.7/dist-packages (from fiona>=1.8->geopandas) (7.1.2)\n",
            "Requirement already satisfied: certifi in /usr/local/lib/python3.7/dist-packages (from fiona>=1.8->geopandas) (2021.5.30)\n",
            "Collecting munch\n",
            "  Downloading munch-2.5.0-py2.py3-none-any.whl (10 kB)\n",
            "Requirement already satisfied: setuptools in /usr/local/lib/python3.7/dist-packages (from fiona>=1.8->geopandas) (57.4.0)\n",
            "Requirement already satisfied: six>=1.7 in /usr/local/lib/python3.7/dist-packages (from fiona>=1.8->geopandas) (1.15.0)\n",
            "Requirement already satisfied: attrs>=17 in /usr/local/lib/python3.7/dist-packages (from fiona>=1.8->geopandas) (21.2.0)\n",
            "Requirement already satisfied: pytz>=2017.2 in /usr/local/lib/python3.7/dist-packages (from pandas>=0.24.0->geopandas) (2018.9)\n",
            "Requirement already satisfied: python-dateutil>=2.7.3 in /usr/local/lib/python3.7/dist-packages (from pandas>=0.24.0->geopandas) (2.8.2)\n",
            "Requirement already satisfied: numpy>=1.15.4 in /usr/local/lib/python3.7/dist-packages (from pandas>=0.24.0->geopandas) (1.19.5)\n",
            "Installing collected packages: munch, cligj, click-plugins, pyproj, fiona, geopandas\n",
            "Successfully installed click-plugins-1.1.1 cligj-0.7.2 fiona-1.8.20 geopandas-0.9.0 munch-2.5.0 pyproj-3.2.0\n"
          ]
        }
      ]
    },
    {
      "cell_type": "code",
      "metadata": {
        "id": "6FUNROgReCne"
      },
      "source": [
        "import torch\n",
        "import geopandas as gpd\n",
        "import matplotlib.pyplot as plt\n",
        "import cv2\n",
        "from PIL import Image, ImageDraw\n",
        "from osgeo import gdal\n",
        "import numpy as np\n",
        "import math\n",
        "from tqdm import notebook\n",
        "from torch.utils.data import Dataset, DataLoader, random_split\n",
        "from torchvision import transforms, utils\n",
        "import torchvision.models as models\n",
        "import torch.nn as nn\n",
        "from torch.optim import Adam"
      ],
      "execution_count": 2,
      "outputs": []
    },
    {
      "cell_type": "code",
      "metadata": {
        "colab": {
          "base_uri": "https://localhost:8080/"
        },
        "id": "MCBgsCjOrKI8",
        "outputId": "f643caca-0f3a-45ec-f95f-362c4cf1ecf9"
      },
      "source": [
        "from google.colab import drive\n",
        "drive.mount('/content/drive')"
      ],
      "execution_count": 3,
      "outputs": [
        {
          "output_type": "stream",
          "name": "stdout",
          "text": [
            "Mounted at /content/drive\n"
          ]
        }
      ]
    },
    {
      "cell_type": "code",
      "metadata": {
        "id": "xz7JPmX3rdn7"
      },
      "source": [
        "import os\n",
        "rootdir = \"/content/drive/My Drive/tiles_updated/tiles/\""
      ],
      "execution_count": 4,
      "outputs": []
    },
    {
      "cell_type": "code",
      "metadata": {
        "id": "LO76cCEevs7M"
      },
      "source": [
        "samples = os.listdir(rootdir)"
      ],
      "execution_count": 5,
      "outputs": []
    },
    {
      "cell_type": "code",
      "metadata": {
        "id": "cH0-RW194ejg"
      },
      "source": [
        "def cooord2pixel(xp, yp, geo_transform):\n",
        "  xoff, a, b, yoff, d, e  = geo_transform \n",
        "  y = (a*yp - d*xp + d*xoff - a*yoff) / (a*e - d*b)\n",
        "  x = (xp - xoff - b * y)/a\n",
        "  return x, y"
      ],
      "execution_count": 27,
      "outputs": []
    },
    {
      "cell_type": "code",
      "metadata": {
        "id": "4wECN2R3-Cu2"
      },
      "source": [
        "def get_locations(sample):\n",
        "\n",
        "  image_location = rootdir+sample+'/'+sample+'_RGBI.tif'\n",
        "  annotation_location = rootdir+sample+'/'+ 'results' + sample[12:]+'/tree_crown_poly_smooth.shp'\n",
        "\n",
        "  return image_location, annotation_location"
      ],
      "execution_count": 68,
      "outputs": []
    },
    {
      "cell_type": "code",
      "metadata": {
        "id": "h9HLUQn8vv91"
      },
      "source": [
        "def preprocess_dataset(samples) :\n",
        "  \n",
        "  data_points = []\n",
        "\n",
        "  for i,_ in notebook.tqdm(enumerate(samples)) :\n",
        "    \n",
        "    image_location, annotation_location = get_locations(samples[i])\n",
        "    gdf = gpd.GeoDataFrame.from_file(annotation_location)\n",
        "    ds = gdal.Open(image_location).GetGeoTransform()\n",
        "\n",
        "    for item in range(len(gdf)):\n",
        "\n",
        "      x_coords, y_coords = gdf.geometry[item].exterior.xy\n",
        "      x_coords = np.array(x_coords)\n",
        "      y_coords = np.array(y_coords)\n",
        "\n",
        "      x_points, y_points = cooord2pixel(x_coords, y_coords, ds)\n",
        "      data_points.append((x_points,y_points,samples[i]))\n",
        "\n",
        "  return data_points"
      ],
      "execution_count": 80,
      "outputs": []
    },
    {
      "cell_type": "code",
      "metadata": {
        "colab": {
          "base_uri": "https://localhost:8080/",
          "height": 49,
          "referenced_widgets": [
            "e878cbe1c64f4207823c7942e0908b56",
            "1a0410508778432b8b7fc3ae79829f81",
            "cb88880e54144345be6c90da2dc87af4",
            "4ad8934a83e74a26975e307be24c643a",
            "39ab332ed12d4e3fa4b92b4d57a8c06c",
            "1fda56554f22489893f5f28f59f77e2e",
            "89dd58b1366d4ba5aac1a020dcae3f5d",
            "ac624d5901494058bd0b3d857c649dcc",
            "882457f04fdf4d3f81b32dc44572fd08",
            "ddfe8ae6e8444bdb96a152fee418eba0",
            "c4f346fe619d43f29455aaad16756eba"
          ]
        },
        "id": "ohvNFCHr2iHo",
        "outputId": "940f8d52-6d00-42ff-c942-56cdc93e63cb"
      },
      "source": [
        "data_list = preprocess_dataset(samples)"
      ],
      "execution_count": 81,
      "outputs": [
        {
          "output_type": "display_data",
          "data": {
            "application/vnd.jupyter.widget-view+json": {
              "model_id": "e878cbe1c64f4207823c7942e0908b56",
              "version_minor": 0,
              "version_major": 2
            },
            "text/plain": [
              "0it [00:00, ?it/s]"
            ]
          },
          "metadata": {}
        }
      ]
    },
    {
      "cell_type": "code",
      "metadata": {
        "id": "nK3Hcz2T9sFf"
      },
      "source": [
        "class PinaDataset(Dataset):\n",
        "\n",
        "  def __init__(self, data_list):\n",
        "    self.data_list = data_list\n",
        "  \n",
        "  def __len__(self):\n",
        "    return len(self.data_list)\n",
        "\n",
        "  def __getitem__(self, idx):\n",
        "\n",
        "    \n",
        "\n",
        "    return data_list[idx]"
      ],
      "execution_count": 83,
      "outputs": []
    },
    {
      "cell_type": "code",
      "metadata": {
        "id": "yB7AcJDh_du8"
      },
      "source": [
        "pdataset = PinaDataset(data_list)"
      ],
      "execution_count": 84,
      "outputs": []
    },
    {
      "cell_type": "code",
      "metadata": {
        "colab": {
          "base_uri": "https://localhost:8080/"
        },
        "id": "J3uZyAqY_fsj",
        "outputId": "1d9cbd05-8484-4d68-91bd-546488e94a61"
      },
      "source": [
        "pdataset[2]"
      ],
      "execution_count": 85,
      "outputs": [
        {
          "output_type": "execute_result",
          "data": {
            "text/plain": [
              "(array([181.7 , 178.65, 173.6 , 171.9 , 172.  , 179.4 , 203.6 , 206.95,\n",
              "        207.4 , 206.95, 205.15, 181.7 ]),\n",
              " array([35.45      , 33.15      , 28.10000001, 24.95      , 23.        ,\n",
              "         2.35      ,  2.15      , 27.55      , 32.4       , 33.45      ,\n",
              "        33.9       , 35.45      ]),\n",
              " 'schlegel2019_683454_683214_5589229_5588989')"
            ]
          },
          "metadata": {},
          "execution_count": 85
        }
      ]
    },
    {
      "cell_type": "code",
      "metadata": {
        "id": "gEK6G3UZ_g_I"
      },
      "source": [
        ""
      ],
      "execution_count": null,
      "outputs": []
    }
  ]
}