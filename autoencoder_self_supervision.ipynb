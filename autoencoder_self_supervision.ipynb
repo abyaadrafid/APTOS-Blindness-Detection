{
  "nbformat": 4,
  "nbformat_minor": 0,
  "metadata": {
    "colab": {
      "name": "autoencoder_self_supervision.ipynb",
      "provenance": [],
      "collapsed_sections": [],
      "include_colab_link": true
    },
    "kernelspec": {
      "name": "python3",
      "display_name": "Python 3"
    },
    "language_info": {
      "name": "python"
    },
    "widgets": {
      "application/vnd.jupyter.widget-state+json": {
        "06b8564ee2b648b193184f927c892156": {
          "model_module": "@jupyter-widgets/controls",
          "model_name": "HBoxModel",
          "model_module_version": "1.5.0",
          "state": {
            "_view_name": "HBoxView",
            "_dom_classes": [],
            "_model_name": "HBoxModel",
            "_view_module": "@jupyter-widgets/controls",
            "_model_module_version": "1.5.0",
            "_view_count": null,
            "_view_module_version": "1.5.0",
            "box_style": "",
            "layout": "IPY_MODEL_379b0ed1379644c9ad7f25da26acb4ec",
            "_model_module": "@jupyter-widgets/controls",
            "children": [
              "IPY_MODEL_66dad7c493b243f19743b5e9852c18b6",
              "IPY_MODEL_b103493b8fdc47e99fb0be33d4842d09",
              "IPY_MODEL_256671b0bf5b46b0bdb70a9c77a321e9"
            ]
          }
        },
        "379b0ed1379644c9ad7f25da26acb4ec": {
          "model_module": "@jupyter-widgets/base",
          "model_name": "LayoutModel",
          "model_module_version": "1.2.0",
          "state": {
            "_view_name": "LayoutView",
            "grid_template_rows": null,
            "right": null,
            "justify_content": null,
            "_view_module": "@jupyter-widgets/base",
            "overflow": null,
            "_model_module_version": "1.2.0",
            "_view_count": null,
            "flex_flow": null,
            "width": null,
            "min_width": null,
            "border": null,
            "align_items": null,
            "bottom": null,
            "_model_module": "@jupyter-widgets/base",
            "top": null,
            "grid_column": null,
            "overflow_y": null,
            "overflow_x": null,
            "grid_auto_flow": null,
            "grid_area": null,
            "grid_template_columns": null,
            "flex": null,
            "_model_name": "LayoutModel",
            "justify_items": null,
            "grid_row": null,
            "max_height": null,
            "align_content": null,
            "visibility": null,
            "align_self": null,
            "height": null,
            "min_height": null,
            "padding": null,
            "grid_auto_rows": null,
            "grid_gap": null,
            "max_width": null,
            "order": null,
            "_view_module_version": "1.2.0",
            "grid_template_areas": null,
            "object_position": null,
            "object_fit": null,
            "grid_auto_columns": null,
            "margin": null,
            "display": null,
            "left": null
          }
        },
        "66dad7c493b243f19743b5e9852c18b6": {
          "model_module": "@jupyter-widgets/controls",
          "model_name": "HTMLModel",
          "model_module_version": "1.5.0",
          "state": {
            "_view_name": "HTMLView",
            "style": "IPY_MODEL_f4f992350f44420ab52927c6e0d62bac",
            "_dom_classes": [],
            "description": "",
            "_model_name": "HTMLModel",
            "placeholder": "​",
            "_view_module": "@jupyter-widgets/controls",
            "_model_module_version": "1.5.0",
            "value": "",
            "_view_count": null,
            "_view_module_version": "1.5.0",
            "description_tooltip": null,
            "_model_module": "@jupyter-widgets/controls",
            "layout": "IPY_MODEL_0244021435e44efb9015d5aec322b135"
          }
        },
        "b103493b8fdc47e99fb0be33d4842d09": {
          "model_module": "@jupyter-widgets/controls",
          "model_name": "FloatProgressModel",
          "model_module_version": "1.5.0",
          "state": {
            "_view_name": "ProgressView",
            "style": "IPY_MODEL_6bf9f450e30a49beb412d8253deebaa4",
            "_dom_classes": [],
            "description": "",
            "_model_name": "FloatProgressModel",
            "bar_style": "success",
            "max": 1,
            "_view_module": "@jupyter-widgets/controls",
            "_model_module_version": "1.5.0",
            "value": 1,
            "_view_count": null,
            "_view_module_version": "1.5.0",
            "orientation": "horizontal",
            "min": 0,
            "description_tooltip": null,
            "_model_module": "@jupyter-widgets/controls",
            "layout": "IPY_MODEL_00056be2021b4cbe9f1ad13f8fb940b3"
          }
        },
        "256671b0bf5b46b0bdb70a9c77a321e9": {
          "model_module": "@jupyter-widgets/controls",
          "model_name": "HTMLModel",
          "model_module_version": "1.5.0",
          "state": {
            "_view_name": "HTMLView",
            "style": "IPY_MODEL_0b346ecb4e5047d597b56daece497bd5",
            "_dom_classes": [],
            "description": "",
            "_model_name": "HTMLModel",
            "placeholder": "​",
            "_view_module": "@jupyter-widgets/controls",
            "_model_module_version": "1.5.0",
            "value": " 81/? [00:12&lt;00:00,  6.83it/s]",
            "_view_count": null,
            "_view_module_version": "1.5.0",
            "description_tooltip": null,
            "_model_module": "@jupyter-widgets/controls",
            "layout": "IPY_MODEL_8a600262ed5a43b3a69c9fe907a415fc"
          }
        },
        "f4f992350f44420ab52927c6e0d62bac": {
          "model_module": "@jupyter-widgets/controls",
          "model_name": "DescriptionStyleModel",
          "model_module_version": "1.5.0",
          "state": {
            "_view_name": "StyleView",
            "_model_name": "DescriptionStyleModel",
            "description_width": "",
            "_view_module": "@jupyter-widgets/base",
            "_model_module_version": "1.5.0",
            "_view_count": null,
            "_view_module_version": "1.2.0",
            "_model_module": "@jupyter-widgets/controls"
          }
        },
        "0244021435e44efb9015d5aec322b135": {
          "model_module": "@jupyter-widgets/base",
          "model_name": "LayoutModel",
          "model_module_version": "1.2.0",
          "state": {
            "_view_name": "LayoutView",
            "grid_template_rows": null,
            "right": null,
            "justify_content": null,
            "_view_module": "@jupyter-widgets/base",
            "overflow": null,
            "_model_module_version": "1.2.0",
            "_view_count": null,
            "flex_flow": null,
            "width": null,
            "min_width": null,
            "border": null,
            "align_items": null,
            "bottom": null,
            "_model_module": "@jupyter-widgets/base",
            "top": null,
            "grid_column": null,
            "overflow_y": null,
            "overflow_x": null,
            "grid_auto_flow": null,
            "grid_area": null,
            "grid_template_columns": null,
            "flex": null,
            "_model_name": "LayoutModel",
            "justify_items": null,
            "grid_row": null,
            "max_height": null,
            "align_content": null,
            "visibility": null,
            "align_self": null,
            "height": null,
            "min_height": null,
            "padding": null,
            "grid_auto_rows": null,
            "grid_gap": null,
            "max_width": null,
            "order": null,
            "_view_module_version": "1.2.0",
            "grid_template_areas": null,
            "object_position": null,
            "object_fit": null,
            "grid_auto_columns": null,
            "margin": null,
            "display": null,
            "left": null
          }
        },
        "6bf9f450e30a49beb412d8253deebaa4": {
          "model_module": "@jupyter-widgets/controls",
          "model_name": "ProgressStyleModel",
          "model_module_version": "1.5.0",
          "state": {
            "_view_name": "StyleView",
            "_model_name": "ProgressStyleModel",
            "description_width": "",
            "_view_module": "@jupyter-widgets/base",
            "_model_module_version": "1.5.0",
            "_view_count": null,
            "_view_module_version": "1.2.0",
            "bar_color": null,
            "_model_module": "@jupyter-widgets/controls"
          }
        },
        "00056be2021b4cbe9f1ad13f8fb940b3": {
          "model_module": "@jupyter-widgets/base",
          "model_name": "LayoutModel",
          "model_module_version": "1.2.0",
          "state": {
            "_view_name": "LayoutView",
            "grid_template_rows": null,
            "right": null,
            "justify_content": null,
            "_view_module": "@jupyter-widgets/base",
            "overflow": null,
            "_model_module_version": "1.2.0",
            "_view_count": null,
            "flex_flow": null,
            "width": "20px",
            "min_width": null,
            "border": null,
            "align_items": null,
            "bottom": null,
            "_model_module": "@jupyter-widgets/base",
            "top": null,
            "grid_column": null,
            "overflow_y": null,
            "overflow_x": null,
            "grid_auto_flow": null,
            "grid_area": null,
            "grid_template_columns": null,
            "flex": null,
            "_model_name": "LayoutModel",
            "justify_items": null,
            "grid_row": null,
            "max_height": null,
            "align_content": null,
            "visibility": null,
            "align_self": null,
            "height": null,
            "min_height": null,
            "padding": null,
            "grid_auto_rows": null,
            "grid_gap": null,
            "max_width": null,
            "order": null,
            "_view_module_version": "1.2.0",
            "grid_template_areas": null,
            "object_position": null,
            "object_fit": null,
            "grid_auto_columns": null,
            "margin": null,
            "display": null,
            "left": null
          }
        },
        "0b346ecb4e5047d597b56daece497bd5": {
          "model_module": "@jupyter-widgets/controls",
          "model_name": "DescriptionStyleModel",
          "model_module_version": "1.5.0",
          "state": {
            "_view_name": "StyleView",
            "_model_name": "DescriptionStyleModel",
            "description_width": "",
            "_view_module": "@jupyter-widgets/base",
            "_model_module_version": "1.5.0",
            "_view_count": null,
            "_view_module_version": "1.2.0",
            "_model_module": "@jupyter-widgets/controls"
          }
        },
        "8a600262ed5a43b3a69c9fe907a415fc": {
          "model_module": "@jupyter-widgets/base",
          "model_name": "LayoutModel",
          "model_module_version": "1.2.0",
          "state": {
            "_view_name": "LayoutView",
            "grid_template_rows": null,
            "right": null,
            "justify_content": null,
            "_view_module": "@jupyter-widgets/base",
            "overflow": null,
            "_model_module_version": "1.2.0",
            "_view_count": null,
            "flex_flow": null,
            "width": null,
            "min_width": null,
            "border": null,
            "align_items": null,
            "bottom": null,
            "_model_module": "@jupyter-widgets/base",
            "top": null,
            "grid_column": null,
            "overflow_y": null,
            "overflow_x": null,
            "grid_auto_flow": null,
            "grid_area": null,
            "grid_template_columns": null,
            "flex": null,
            "_model_name": "LayoutModel",
            "justify_items": null,
            "grid_row": null,
            "max_height": null,
            "align_content": null,
            "visibility": null,
            "align_self": null,
            "height": null,
            "min_height": null,
            "padding": null,
            "grid_auto_rows": null,
            "grid_gap": null,
            "max_width": null,
            "order": null,
            "_view_module_version": "1.2.0",
            "grid_template_areas": null,
            "object_position": null,
            "object_fit": null,
            "grid_auto_columns": null,
            "margin": null,
            "display": null,
            "left": null
          }
        }
      }
    }
  },
  "cells": [
    {
      "cell_type": "markdown",
      "metadata": {
        "id": "view-in-github",
        "colab_type": "text"
      },
      "source": [
        "<a href=\"https://colab.research.google.com/github/abyaadrafid/APTOS-Blindness-Detection/blob/master/autoencoder_self_supervision.ipynb\" target=\"_parent\"><img src=\"https://colab.research.google.com/assets/colab-badge.svg\" alt=\"Open In Colab\"/></a>"
      ]
    },
    {
      "cell_type": "code",
      "metadata": {
        "colab": {
          "base_uri": "https://localhost:8080/"
        },
        "id": "AtbKxKlarElL",
        "outputId": "02d60bc7-4cae-4e7d-f737-2aab6f60d177"
      },
      "source": [
        "!pip install geopandas"
      ],
      "execution_count": 13,
      "outputs": [
        {
          "output_type": "stream",
          "name": "stdout",
          "text": [
            "Requirement already satisfied: geopandas in /usr/local/lib/python3.7/dist-packages (0.9.0)\n",
            "Requirement already satisfied: shapely>=1.6 in /usr/local/lib/python3.7/dist-packages (from geopandas) (1.7.1)\n",
            "Requirement already satisfied: pandas>=0.24.0 in /usr/local/lib/python3.7/dist-packages (from geopandas) (1.1.5)\n",
            "Requirement already satisfied: pyproj>=2.2.0 in /usr/local/lib/python3.7/dist-packages (from geopandas) (3.2.0)\n",
            "Requirement already satisfied: fiona>=1.8 in /usr/local/lib/python3.7/dist-packages (from geopandas) (1.8.20)\n",
            "Requirement already satisfied: attrs>=17 in /usr/local/lib/python3.7/dist-packages (from fiona>=1.8->geopandas) (21.2.0)\n",
            "Requirement already satisfied: cligj>=0.5 in /usr/local/lib/python3.7/dist-packages (from fiona>=1.8->geopandas) (0.7.2)\n",
            "Requirement already satisfied: munch in /usr/local/lib/python3.7/dist-packages (from fiona>=1.8->geopandas) (2.5.0)\n",
            "Requirement already satisfied: click>=4.0 in /usr/local/lib/python3.7/dist-packages (from fiona>=1.8->geopandas) (7.1.2)\n",
            "Requirement already satisfied: certifi in /usr/local/lib/python3.7/dist-packages (from fiona>=1.8->geopandas) (2021.5.30)\n",
            "Requirement already satisfied: setuptools in /usr/local/lib/python3.7/dist-packages (from fiona>=1.8->geopandas) (57.4.0)\n",
            "Requirement already satisfied: six>=1.7 in /usr/local/lib/python3.7/dist-packages (from fiona>=1.8->geopandas) (1.15.0)\n",
            "Requirement already satisfied: click-plugins>=1.0 in /usr/local/lib/python3.7/dist-packages (from fiona>=1.8->geopandas) (1.1.1)\n",
            "Requirement already satisfied: python-dateutil>=2.7.3 in /usr/local/lib/python3.7/dist-packages (from pandas>=0.24.0->geopandas) (2.8.2)\n",
            "Requirement already satisfied: numpy>=1.15.4 in /usr/local/lib/python3.7/dist-packages (from pandas>=0.24.0->geopandas) (1.19.5)\n",
            "Requirement already satisfied: pytz>=2017.2 in /usr/local/lib/python3.7/dist-packages (from pandas>=0.24.0->geopandas) (2018.9)\n"
          ]
        }
      ]
    },
    {
      "cell_type": "code",
      "metadata": {
        "id": "6FUNROgReCne"
      },
      "source": [
        "import torch\n",
        "import geopandas as gpd\n",
        "import matplotlib.pyplot as plt\n",
        "import cv2\n",
        "from PIL import Image, ImageDraw\n",
        "from osgeo import gdal\n",
        "import numpy as np\n",
        "import math\n",
        "from tqdm import notebook\n",
        "from torch.utils.data import Dataset, DataLoader, random_split\n",
        "import torchvision\n",
        "from torchvision import transforms, utils\n",
        "import torchvision.models as models\n",
        "import torch.nn as nn\n",
        "from torch.optim import Adam\n",
        "from google.colab.patches import cv2_imshow\n",
        "from itertools import product"
      ],
      "execution_count": 262,
      "outputs": []
    },
    {
      "cell_type": "code",
      "metadata": {
        "colab": {
          "base_uri": "https://localhost:8080/"
        },
        "id": "MCBgsCjOrKI8",
        "outputId": "f8fb85a1-6b1a-4844-d827-4649a37a5fa4"
      },
      "source": [
        "from google.colab import drive\n",
        "drive.mount('/content/drive')"
      ],
      "execution_count": 15,
      "outputs": [
        {
          "output_type": "stream",
          "name": "stdout",
          "text": [
            "Drive already mounted at /content/drive; to attempt to forcibly remount, call drive.mount(\"/content/drive\", force_remount=True).\n"
          ]
        }
      ]
    },
    {
      "cell_type": "code",
      "metadata": {
        "id": "xz7JPmX3rdn7"
      },
      "source": [
        "import os\n",
        "rootdir = \"/content/drive/My Drive/tiles_updated/tiles/\""
      ],
      "execution_count": 16,
      "outputs": []
    },
    {
      "cell_type": "code",
      "metadata": {
        "id": "LO76cCEevs7M"
      },
      "source": [
        "samples = os.listdir(rootdir)"
      ],
      "execution_count": 17,
      "outputs": []
    },
    {
      "cell_type": "code",
      "metadata": {
        "id": "cH0-RW194ejg"
      },
      "source": [
        "def cooord2pixel(xp, yp, geo_transform):\n",
        "  xoff, a, b, yoff, d, e  = geo_transform \n",
        "  y = (a*yp - d*xp + d*xoff - a*yoff) / (a*e - d*b)\n",
        "  x = (xp - xoff - b * y)/a\n",
        "  return x, y"
      ],
      "execution_count": 18,
      "outputs": []
    },
    {
      "cell_type": "code",
      "metadata": {
        "id": "4wECN2R3-Cu2"
      },
      "source": [
        "def get_locations(sample):\n",
        "\n",
        "  image_location = rootdir+sample+'/'+sample+'_RGBI.tif'\n",
        "  annotation_location = rootdir+sample+'/'+ 'results' + sample[12:]+'/tree_crown_poly_smooth.shp'\n",
        "\n",
        "  return image_location, annotation_location"
      ],
      "execution_count": 19,
      "outputs": []
    },
    {
      "cell_type": "code",
      "metadata": {
        "id": "h9HLUQn8vv91"
      },
      "source": [
        "def preprocess_dataset(samples) :\n",
        "  \n",
        "  data_points = []\n",
        "\n",
        "  for i,_ in notebook.tqdm(enumerate(samples)) :\n",
        "    \n",
        "    image_location, annotation_location = get_locations(samples[i])\n",
        "    gdf = gpd.GeoDataFrame.from_file(annotation_location)\n",
        "    ds = gdal.Open(image_location).GetGeoTransform()\n",
        "\n",
        "    for item in range(len(gdf)):\n",
        "\n",
        "      x_coords, y_coords = gdf.geometry[item].exterior.xy\n",
        "      x_coords = np.array(x_coords)\n",
        "      y_coords = np.array(y_coords)\n",
        "\n",
        "      x_points, y_points = cooord2pixel(x_coords, y_coords, ds)\n",
        "      data_points.append((x_points,y_points,image_location))\n",
        "\n",
        "  return data_points"
      ],
      "execution_count": 57,
      "outputs": []
    },
    {
      "cell_type": "code",
      "metadata": {
        "id": "RvZByyJ8MFI5"
      },
      "source": [
        "def crop_image(img):\n",
        "  mask = img!=0\n",
        "  mask = mask.any(2)\n",
        "  mask0,mask1 = mask.any(0),mask.any(1)\n",
        "  return img[np.ix_(mask1,mask0)]"
      ],
      "execution_count": 105,
      "outputs": []
    },
    {
      "cell_type": "code",
      "metadata": {
        "colab": {
          "base_uri": "https://localhost:8080/",
          "height": 49,
          "referenced_widgets": [
            "06b8564ee2b648b193184f927c892156",
            "379b0ed1379644c9ad7f25da26acb4ec",
            "66dad7c493b243f19743b5e9852c18b6",
            "b103493b8fdc47e99fb0be33d4842d09",
            "256671b0bf5b46b0bdb70a9c77a321e9",
            "f4f992350f44420ab52927c6e0d62bac",
            "0244021435e44efb9015d5aec322b135",
            "6bf9f450e30a49beb412d8253deebaa4",
            "00056be2021b4cbe9f1ad13f8fb940b3",
            "0b346ecb4e5047d597b56daece497bd5",
            "8a600262ed5a43b3a69c9fe907a415fc"
          ]
        },
        "id": "ohvNFCHr2iHo",
        "outputId": "c284059b-9945-4fc1-d5ed-1e1e7d532a18"
      },
      "source": [
        "data_list = preprocess_dataset(samples)"
      ],
      "execution_count": 106,
      "outputs": [
        {
          "output_type": "display_data",
          "data": {
            "application/vnd.jupyter.widget-view+json": {
              "model_id": "06b8564ee2b648b193184f927c892156",
              "version_minor": 0,
              "version_major": 2
            },
            "text/plain": [
              "0it [00:00, ?it/s]"
            ]
          },
          "metadata": {}
        }
      ]
    },
    {
      "cell_type": "code",
      "metadata": {
        "id": "QZ_f7wQiFkY8"
      },
      "source": [
        "def get_polygon(params):\n",
        "\n",
        "  x_points, y_points, image_location = params\n",
        "  img = Image.open(image_location)\n",
        "  image = np.array(img)\n",
        "\n",
        "  polygon = np.concatenate((x_points.reshape(-1,1),y_points.reshape(-1,1)),axis=1)\n",
        "  polygon = polygon.astype(int)\n",
        "  mask = np.zeros((image.shape[0], image.shape[1]))\n",
        "  cv2.fillConvexPoly(mask, polygon, 1)\n",
        "  mask = mask.astype(np.bool)\n",
        "  out = np.zeros_like(image)\n",
        "  out[mask] = image[mask]\n",
        "\n",
        "  out = crop_image(out)\n",
        "\n",
        "  if out.size!=0 :\n",
        "   out = cv2.resize(out,(96, 96))\n",
        "  \n",
        "  return out"
      ],
      "execution_count": 267,
      "outputs": []
    },
    {
      "cell_type": "code",
      "metadata": {
        "id": "nK3Hcz2T9sFf"
      },
      "source": [
        "class PinaDataset(Dataset):\n",
        "\n",
        "  def __init__(self, data_list):\n",
        "    self.data_list = data_list\n",
        "  \n",
        "  def __len__(self):\n",
        "    return len(self.data_list)\n",
        "\n",
        "  def __getitem__(self, idx):\n",
        "    polygon = get_polygon(data_list[idx])\n",
        "    return torchvision.transforms.functional.to_tensor(polygon)"
      ],
      "execution_count": 268,
      "outputs": []
    },
    {
      "cell_type": "code",
      "metadata": {
        "id": "yB7AcJDh_du8"
      },
      "source": [
        "pina_ds = PinaDataset(data_list)"
      ],
      "execution_count": 269,
      "outputs": []
    },
    {
      "cell_type": "code",
      "metadata": {
        "id": "Em4uvnqPVJaB",
        "outputId": "3a022e32-5f49-40c5-ff8a-73c06d079372",
        "colab": {
          "base_uri": "https://localhost:8080/"
        }
      },
      "source": [
        "pina_ds[0].shape"
      ],
      "execution_count": 270,
      "outputs": [
        {
          "output_type": "execute_result",
          "data": {
            "text/plain": [
              "torch.Size([4, 96, 96])"
            ]
          },
          "metadata": {},
          "execution_count": 270
        }
      ]
    },
    {
      "cell_type": "code",
      "metadata": {
        "id": "gEK6G3UZ_g_I"
      },
      "source": [
        "train_ds, valid_ds = random_split(pina_ds,[50895, 12723])"
      ],
      "execution_count": 271,
      "outputs": []
    },
    {
      "cell_type": "code",
      "metadata": {
        "id": "YcV-fK8dSL3h"
      },
      "source": [
        "train_dl = DataLoader(train_ds, batch_size=2, shuffle=True)\n",
        "valid_dl = DataLoader(valid_ds, batch_size=2, shuffle=True)"
      ],
      "execution_count": 272,
      "outputs": []
    },
    {
      "cell_type": "code",
      "metadata": {
        "id": "p_bhCK0CTd-S"
      },
      "source": [
        "model = nn.Sequential(\n",
        "    nn.Conv2d(4, 16, kernel_size=(3,3))\n",
        ")"
      ],
      "execution_count": 273,
      "outputs": []
    },
    {
      "cell_type": "code",
      "metadata": {
        "id": "Ej_B1Xh1X4Dx",
        "outputId": "89fb9fc3-05dd-47b5-e6e6-b18eb4eb5283",
        "colab": {
          "base_uri": "https://localhost:8080/"
        }
      },
      "source": [
        "for count, i in enumerate(train_dl) :\n",
        "  print(model(i).shape)\n",
        "  if count >= 3:\n",
        "    break"
      ],
      "execution_count": 274,
      "outputs": [
        {
          "output_type": "stream",
          "name": "stdout",
          "text": [
            "torch.Size([2, 16, 94, 94])\n",
            "torch.Size([2, 16, 94, 94])\n",
            "torch.Size([2, 16, 94, 94])\n",
            "torch.Size([2, 16, 94, 94])\n"
          ]
        }
      ]
    },
    {
      "cell_type": "code",
      "metadata": {
        "id": "lzkErk7NYFJy"
      },
      "source": [
        ""
      ],
      "execution_count": null,
      "outputs": []
    }
  ]
}